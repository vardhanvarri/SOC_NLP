{
 "cells": [
  {
   "cell_type": "code",
   "execution_count": 1,
   "id": "e0dea6a9-ffac-45fb-93e6-4f2e250f7011",
   "metadata": {},
   "outputs": [],
   "source": [
    "import numpy as np"
   ]
  },
  {
   "cell_type": "code",
   "execution_count": null,
   "id": "b7d66c75-d3fc-4b0b-a464-f7c75458186e",
   "metadata": {},
   "outputs": [],
   "source": [
    "grid_size=4\n",
    "empty_value=np.zeros((4,4))\n",
    "reward_pots={\n",
    "    (0,3): 10,\n",
    "    (1,1): \"-1\",\n",
    "    (3,0): 1,\n",
    "    (3,2): \"-20\",\n",
    "    (2,3): -45\n",
    "}"
   ]
  },
  {
   "cell_type": "code",
   "execution_count": null,
   "id": "cb17e22d-803f-440e-9faa-cedd0bbc607d",
   "metadata": {},
   "outputs": [],
   "source": [
    "rewards=np.zeros((grid_size,grid_size))\n",
    "for pos,reward in reward_pots.items():\n",
    "    rewards[pos]=reward\n",
    "rewards"
   ]
  },
  {
   "cell_type": "code",
   "execution_count": null,
   "id": "d0f5149b-ce35-42bb-9fe7-69472e537b4e",
   "metadata": {},
   "outputs": [],
   "source": [
    "\n",
    "# Define the deterministic transition dynamics\n",
    "def move(position, action):\n",
    "    x, y = position\n",
    "    if action == \"up\" and x > 0:\n",
    "        return (x - 1, y)\n",
    "    elif action == \"down\" and x < grid_size - 1:\n",
    "        return (x + 1, y)\n",
    "    elif action == \"left\" and y > 0:\n",
    "        return (x, y - 1)\n",
    "    elif action == \"right\" and y < grid_size - 1:\n",
    "        return (x, y + 1)\n",
    "    else:\n",
    "        return position  # If the move is not possible, stay in the same position\n"
   ]
  },
  {
   "cell_type": "code",
   "execution_count": null,
   "id": "495dc1fe-a790-44b6-abad-f9ead4c01605",
   "metadata": {},
   "outputs": [],
   "source": [
    "value_func=np.zeros((4,4))\n",
    "\n",
    "# Value iteration parameters\n",
    "gamma = 0.7  # Discount factor\n",
    "theta = 0.00001  # Threshold for convergence\n",
    "actions = [\"up\", \"down\", \"left\", \"right\"]\n",
    "\n",
    "\n",
    "def eval_valuefunc(state, value_function, rewards, gamma=0.9):\n",
    "    x, y = state\n",
    "    new_value = max(\n",
    "        rewards[x, y] + gamma * value_function[move((x, y), action)]\n",
    "        for action in actions\n",
    "    )\n",
    "    return new_value"
   ]
  },
  {
   "cell_type": "code",
   "execution_count": null,
   "id": "f65cd01b-c3f9-4c0e-b16b-eb78ddafce90",
   "metadata": {},
   "outputs": [],
   "source": [
    "def value_iter(value_func,rewards,gamma=0.9,theta=1e-5):\n",
    "    new_value_func=np.zeros((4,4))\n",
    "    while True:\n",
    "        delta=0\n",
    "        \n",
    "        for x in range(grid_size):\n",
    "            for y in range(grid_size):\n",
    "                state=(x,y)\n",
    "                v = value_func[x, y]\n",
    "                new_value_func[x,y]=eval_valuefunc(state, value_func, rewards, gamma=0.9)\n",
    "                delta = max(delta, abs(v - new_value_func[x, y]))\n",
    "        if delta < theta:\n",
    "            break\n",
    "    \n",
    "    return value_func"
   ]
  },
  {
   "cell_type": "code",
   "execution_count": null,
   "id": "b4a3efd4-f878-4786-959c-e9d3294e6756",
   "metadata": {},
   "outputs": [],
   "source": [
    "\n",
    "optimal_value_func = value_iter(empty_value, rewards, gamma, theta)\n",
    "\n",
    "# Print the optimal value function\n",
    "print(\"Optimal Value Function:\")\n",
    "print(optimal_value_func)"
   ]
  },
  {
   "cell_type": "code",
   "execution_count": null,
   "id": "ec82d908-9510-4009-a458-ec5eccba4625",
   "metadata": {},
   "outputs": [],
   "source": []
  },
  {
   "cell_type": "code",
   "execution_count": null,
   "id": "2a2c8b24-c8ef-46be-8097-19a1b368ee97",
   "metadata": {},
   "outputs": [],
   "source": []
  },
  {
   "cell_type": "code",
   "execution_count": null,
   "id": "fd31cf6d-891a-42a4-8481-18f87f7c8d3c",
   "metadata": {},
   "outputs": [],
   "source": []
  },
  {
   "cell_type": "code",
   "execution_count": null,
   "id": "40081f15-dbe4-49c9-b382-cc62b5f16a6a",
   "metadata": {},
   "outputs": [],
   "source": []
  },
  {
   "cell_type": "code",
   "execution_count": null,
   "id": "9b08988e-5e2d-4dca-a823-c6bc937f6081",
   "metadata": {},
   "outputs": [],
   "source": []
  },
  {
   "cell_type": "code",
   "execution_count": null,
   "id": "9b2392e9-0112-413a-9295-a942e294c32f",
   "metadata": {},
   "outputs": [],
   "source": []
  },
  {
   "cell_type": "code",
   "execution_count": null,
   "id": "0443da33-b3ad-49f0-a551-b4215f00d4ec",
   "metadata": {},
   "outputs": [],
   "source": []
  },
  {
   "cell_type": "code",
   "execution_count": null,
   "id": "f3824e7d-9838-49bf-9a39-b2f3563999ed",
   "metadata": {},
   "outputs": [],
   "source": []
  },
  {
   "cell_type": "code",
   "execution_count": null,
   "id": "12075085-7881-466e-97a6-4f0d176ec38c",
   "metadata": {},
   "outputs": [],
   "source": []
  },
  {
   "cell_type": "code",
   "execution_count": null,
   "id": "4f71f41c-cc8b-4e50-9718-079f518e57e7",
   "metadata": {},
   "outputs": [],
   "source": []
  },
  {
   "cell_type": "code",
   "execution_count": null,
   "id": "5b57442a-3771-4ad7-b8e8-abe9c444a94a",
   "metadata": {},
   "outputs": [],
   "source": []
  },
  {
   "cell_type": "code",
   "execution_count": null,
   "id": "2cd953ad-59e5-4f46-b111-fc52cd5ab5b8",
   "metadata": {},
   "outputs": [],
   "source": []
  },
  {
   "cell_type": "code",
   "execution_count": null,
   "id": "b0712e90-d0f4-4db2-aba8-59463fcd7e2f",
   "metadata": {},
   "outputs": [],
   "source": []
  },
  {
   "cell_type": "code",
   "execution_count": null,
   "id": "da11c845-53bf-4e68-b1a9-c610d13cb794",
   "metadata": {},
   "outputs": [],
   "source": []
  },
  {
   "cell_type": "code",
   "execution_count": null,
   "id": "7c7a10cf-5b5e-494c-ade0-cf1ca4e360eb",
   "metadata": {},
   "outputs": [],
   "source": []
  },
  {
   "cell_type": "code",
   "execution_count": null,
   "id": "6f84e406-3b22-4031-8de0-3572b100f98d",
   "metadata": {},
   "outputs": [],
   "source": []
  },
  {
   "cell_type": "code",
   "execution_count": null,
   "id": "08839696-cee3-4c13-a104-e47219e62e59",
   "metadata": {},
   "outputs": [],
   "source": []
  },
  {
   "cell_type": "code",
   "execution_count": null,
   "id": "bec57d65-06ee-48bc-810e-6cf7a5fba3fa",
   "metadata": {},
   "outputs": [],
   "source": []
  },
  {
   "cell_type": "code",
   "execution_count": null,
   "id": "61080e59-d378-4421-9441-3f51f2cef583",
   "metadata": {},
   "outputs": [],
   "source": []
  }
 ],
 "metadata": {
  "kernelspec": {
   "display_name": "Python 3 (ipykernel)",
   "language": "python",
   "name": "python3"
  },
  "language_info": {
   "codemirror_mode": {
    "name": "ipython",
    "version": 3
   },
   "file_extension": ".py",
   "mimetype": "text/x-python",
   "name": "python",
   "nbconvert_exporter": "python",
   "pygments_lexer": "ipython3",
   "version": "3.10.12"
  }
 },
 "nbformat": 4,
 "nbformat_minor": 5
}
