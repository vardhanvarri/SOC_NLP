{
 "cells": [
  {
   "cell_type": "code",
   "execution_count": 9,
   "id": "7a864d24-a98f-4360-8f2c-6c54f72f1076",
   "metadata": {},
   "outputs": [],
   "source": [
    "import seaborn as sns"
   ]
  },
  {
   "cell_type": "code",
   "execution_count": 2,
   "id": "19eb44a3-7182-4e86-be54-053b432085b5",
   "metadata": {},
   "outputs": [],
   "source": [
    "import numpy as np\n",
    "import random"
   ]
  },
  {
   "cell_type": "code",
   "execution_count": 3,
   "id": "a7f2da60-2b18-4308-8375-5e431c568533",
   "metadata": {},
   "outputs": [],
   "source": [
    "import gymnasium as gym\n",
    "import matplotlib.pyplot as plt"
   ]
  },
  {
   "cell_type": "code",
   "execution_count": 4,
   "id": "65881e26-08ab-4022-9294-8f6f1e468557",
   "metadata": {},
   "outputs": [],
   "source": [
    "reward_pots={\n",
    "    (0,3): 10,\n",
    "    (1,1): \"-1\",\n",
    "    (3,0): 1,\n",
    "    (3,3): \"20\",\n",
    "    (0,2): \"-20\",\n",
    "    (2,0): \"-2\",\n",
    "    (2,3): -45\n",
    "}"
   ]
  },
  {
   "cell_type": "code",
   "execution_count": 5,
   "id": "5bb4b923-62c8-4dea-8685-76328433bf1a",
   "metadata": {},
   "outputs": [
    {
     "data": {
      "text/plain": [
       "array([[  0.,   0., -20.,  10.],\n",
       "       [  0.,  -1.,   0.,   0.],\n",
       "       [ -2.,   0.,   0., -45.],\n",
       "       [  1.,   0.,   0.,  20.]])"
      ]
     },
     "execution_count": 5,
     "metadata": {},
     "output_type": "execute_result"
    }
   ],
   "source": [
    "\n",
    "grid_size=4\n",
    "rewards=np.zeros((grid_size,grid_size))\n",
    "for pos,reward in reward_pots.items():\n",
    "    rewards[pos]=reward\n",
    "rewards"
   ]
  },
  {
   "cell_type": "code",
   "execution_count": 11,
   "id": "c04b0937-ce2b-48be-83bf-84387dff4346",
   "metadata": {},
   "outputs": [],
   "source": [
    "\n",
    "# Define the deterministic transition dynamics\n",
    "def move(position, action):\n",
    "    x, y = position\n",
    "    if action == \"3\" and x > 0:\n",
    "        return (x - 1, y)\n",
    "    elif action == \"1\" and x < grid_size - 1:\n",
    "        return (x + 1, y)\n",
    "    elif action == \"0\" and y > 0:\n",
    "        return (x, y - 1)\n",
    "    elif action == \"2\" and y < grid_size - 1:\n",
    "        return (x, y + 1)\n",
    "    else:\n",
    "        return position # If the move is not possible, stay in the same position\n"
   ]
  },
  {
   "cell_type": "code",
   "execution_count": 12,
   "id": "3dd48c9a-2625-4ed6-95ac-416d31aa64c1",
   "metadata": {},
   "outputs": [],
   "source": [
    "\n",
    "\n",
    "# Value iteration parameters\n",
    "gamma = 0.7  # Discount factor\n",
    "theta = 0.00001  # Threshold for convergence\n",
    "actions = [\"0\", \"1\", \"2\", \"3\"]\n"
   ]
  },
  {
   "cell_type": "code",
   "execution_count": 13,
   "id": "a8021ce9-8a75-429a-93f6-bda114309c25",
   "metadata": {},
   "outputs": [
    {
     "name": "stdout",
     "output_type": "stream",
     "text": [
      "[[  0.   0. -20.  10.]\n",
      " [  0.  -1.   0.   0.]\n",
      " [ -2.   0.   0. -45.]\n",
      " [  1.   0.   0.  20.]]\n",
      "[[ -3.74200024 -10.47892621  -9.86423542  -7.63816562]\n",
      " [ -3.43810434  -5.80967839 -14.17367555 -18.46264388]\n",
      " [ -2.2986489   -5.21371388 -16.91494861 -15.12402761]\n",
      " [ -0.76179368  -0.48818188   2.40610811   0.        ]]\n",
      "[[743594. 542475. 428962. 372773.]\n",
      " [541366. 457461. 371090. 314824.]\n",
      " [427379. 370273. 284940. 200537.]\n",
      " [369685. 313207. 199710.      0.]]\n"
     ]
    }
   ],
   "source": [
    "num_episodes=100000\n",
    "value_func=np.zeros((4,4))\n",
    "count_func=np.zeros((4,4))\n",
    "\n",
    "# Initialize the number of episodes\n",
    "for _ in range(num_episodes):\n",
    "    # Start at the initial state (0, 0)\n",
    "    state = (0, 0)\n",
    "    # Initialize an empty list to store the episode\n",
    "    episode = []\n",
    "    \n",
    "    # Generate an episode\n",
    "    while True:\n",
    "        # Select a random action from the available actions\n",
    "        action = random.choice(actions)\n",
    "        # Determine the next state based on the current state and action\n",
    "        next_state = move(state, action)\n",
    "        # Get the reward for the next state\n",
    "        reward = rewards[next_state]\n",
    "        # Append the (state, action, reward) tuple to the episode list\n",
    "        episode.append((state, action, reward))\n",
    "        # Update the current state to the next state\n",
    "        state = next_state\n",
    "        # If the terminal state (3, 3) is reached, end the episode\n",
    "        if state == (3, 3):\n",
    "            break\n",
    "    \n",
    "    # Initialize the return value G to 0\n",
    "    G = 0\n",
    "    # Iterate over the episode in reverse order\n",
    "    for t in reversed(range(len(episode))):\n",
    "        # Extract the state, action, and reward at time t\n",
    "        state, action, reward = episode[t]\n",
    "        # Update the return value G\n",
    "        G = gamma * G + reward\n",
    "        row, col = state\n",
    "        \n",
    "        # Incrementally update V(s)\n",
    "        # Increase the visit count for the current state\n",
    "        count_func[row, col] += 1\n",
    "        # Calculate the learning rate alpha\n",
    "        alpha = 1.0 / count_func[row, col]\n",
    "        # Update the value function for the current state\n",
    "        value_func[row, col] += alpha * (G - value_func[row, col])\n",
    "\n",
    "# Print the rewards, value function, and visit count\n",
    "print(rewards, value_func, count_func, sep='\\n')\n",
    "\n"
   ]
  },
  {
   "cell_type": "code",
   "execution_count": null,
   "id": "64015ea1-abc6-48d6-af58-06c86f3c4ce0",
   "metadata": {},
   "outputs": [],
   "source": []
  },
  {
   "cell_type": "code",
   "execution_count": null,
   "id": "d9c75eb4-23f9-4aa2-a183-ed947317d5d9",
   "metadata": {},
   "outputs": [],
   "source": []
  },
  {
   "cell_type": "code",
   "execution_count": null,
   "id": "e6eee6e4-38ed-4b63-9870-d7dff890042e",
   "metadata": {},
   "outputs": [],
   "source": []
  },
  {
   "cell_type": "code",
   "execution_count": null,
   "id": "07af4931-6f42-444d-8499-c373fb065585",
   "metadata": {},
   "outputs": [],
   "source": []
  },
  {
   "cell_type": "code",
   "execution_count": null,
   "id": "dc9543dd-ca37-46a2-a243-a336a6965b78",
   "metadata": {},
   "outputs": [],
   "source": []
  }
 ],
 "metadata": {
  "kernelspec": {
   "display_name": "Python 3 (ipykernel)",
   "language": "python",
   "name": "python3"
  },
  "language_info": {
   "codemirror_mode": {
    "name": "ipython",
    "version": 3
   },
   "file_extension": ".py",
   "mimetype": "text/x-python",
   "name": "python",
   "nbconvert_exporter": "python",
   "pygments_lexer": "ipython3",
   "version": "3.10.12"
  }
 },
 "nbformat": 4,
 "nbformat_minor": 5
}
